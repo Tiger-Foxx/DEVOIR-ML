{
 "cells": [
  {
   "metadata": {},
   "cell_type": "markdown",
   "source": "# ANALYSE EXPLORATOIRE ET CLUSTURING  SUR LE  DATASET 'USED CARS' : DONFACK PASCAL : M1-GI",
   "id": "dde912c53dc2a272"
  },
  {
   "metadata": {},
   "cell_type": "markdown",
   "source": "## Importation des librairies et chargement du dataset",
   "id": "46298de92771e707"
  },
  {
   "metadata": {
    "ExecuteTime": {
     "end_time": "2025-02-08T20:19:17.267066Z",
     "start_time": "2025-02-08T20:19:17.258822Z"
    }
   },
   "cell_type": "code",
   "source": "# cd \"C:\\Users\\donfa\\OneDrive\\Desktop\\DEVOIR ML\"",
   "id": "85d870c5937c6f67",
   "outputs": [],
   "execution_count": 182
  },
  {
   "metadata": {
    "ExecuteTime": {
     "end_time": "2025-02-08T20:19:17.391906Z",
     "start_time": "2025-02-08T20:19:17.332631Z"
    }
   },
   "cell_type": "code",
   "source": [
    "import pandas as pd\n",
    "import numpy as np\n",
    "import matplotlib.pyplot as plt\n",
    "import seaborn as sns\n",
    "\n",
    "df = pd.read_csv('used_cars.csv')\n",
    "\n",
    "df.head()"
   ],
   "id": "63b7b35e3829dbf1",
   "outputs": [
    {
     "data": {
      "text/plain": [
       "      brand                            model  model_year      milage  \\\n",
       "0      Ford  Utility Police Interceptor Base        2013  51,000 mi.   \n",
       "1   Hyundai                     Palisade SEL        2021  34,742 mi.   \n",
       "2     Lexus                    RX 350 RX 350        2022  22,372 mi.   \n",
       "3  INFINITI                 Q50 Hybrid Sport        2015  88,900 mi.   \n",
       "4      Audi        Q3 45 S line Premium Plus        2021   9,835 mi.   \n",
       "\n",
       "       fuel_type                                             engine  \\\n",
       "0  E85 Flex Fuel  300.0HP 3.7L V6 Cylinder Engine Flex Fuel Capa...   \n",
       "1       Gasoline                               3.8L V6 24V GDI DOHC   \n",
       "2       Gasoline                                     3.5 Liter DOHC   \n",
       "3         Hybrid  354.0HP 3.5L V6 Cylinder Engine Gas/Electric H...   \n",
       "4       Gasoline                         2.0L I4 16V GDI DOHC Turbo   \n",
       "\n",
       "        transmission                 ext_col int_col  \\\n",
       "0        6-Speed A/T                   Black   Black   \n",
       "1  8-Speed Automatic         Moonlight Cloud    Gray   \n",
       "2          Automatic                    Blue   Black   \n",
       "3        7-Speed A/T                   Black   Black   \n",
       "4  8-Speed Automatic  Glacier White Metallic   Black   \n",
       "\n",
       "                                 accident clean_title    price  \n",
       "0  At least 1 accident or damage reported         Yes  $10,300  \n",
       "1  At least 1 accident or damage reported         Yes  $38,005  \n",
       "2                           None reported         NaN  $54,598  \n",
       "3                           None reported         Yes  $15,500  \n",
       "4                           None reported         NaN  $34,999  "
      ],
      "text/html": [
       "<div>\n",
       "<style scoped>\n",
       "    .dataframe tbody tr th:only-of-type {\n",
       "        vertical-align: middle;\n",
       "    }\n",
       "\n",
       "    .dataframe tbody tr th {\n",
       "        vertical-align: top;\n",
       "    }\n",
       "\n",
       "    .dataframe thead th {\n",
       "        text-align: right;\n",
       "    }\n",
       "</style>\n",
       "<table border=\"1\" class=\"dataframe\">\n",
       "  <thead>\n",
       "    <tr style=\"text-align: right;\">\n",
       "      <th></th>\n",
       "      <th>brand</th>\n",
       "      <th>model</th>\n",
       "      <th>model_year</th>\n",
       "      <th>milage</th>\n",
       "      <th>fuel_type</th>\n",
       "      <th>engine</th>\n",
       "      <th>transmission</th>\n",
       "      <th>ext_col</th>\n",
       "      <th>int_col</th>\n",
       "      <th>accident</th>\n",
       "      <th>clean_title</th>\n",
       "      <th>price</th>\n",
       "    </tr>\n",
       "  </thead>\n",
       "  <tbody>\n",
       "    <tr>\n",
       "      <th>0</th>\n",
       "      <td>Ford</td>\n",
       "      <td>Utility Police Interceptor Base</td>\n",
       "      <td>2013</td>\n",
       "      <td>51,000 mi.</td>\n",
       "      <td>E85 Flex Fuel</td>\n",
       "      <td>300.0HP 3.7L V6 Cylinder Engine Flex Fuel Capa...</td>\n",
       "      <td>6-Speed A/T</td>\n",
       "      <td>Black</td>\n",
       "      <td>Black</td>\n",
       "      <td>At least 1 accident or damage reported</td>\n",
       "      <td>Yes</td>\n",
       "      <td>$10,300</td>\n",
       "    </tr>\n",
       "    <tr>\n",
       "      <th>1</th>\n",
       "      <td>Hyundai</td>\n",
       "      <td>Palisade SEL</td>\n",
       "      <td>2021</td>\n",
       "      <td>34,742 mi.</td>\n",
       "      <td>Gasoline</td>\n",
       "      <td>3.8L V6 24V GDI DOHC</td>\n",
       "      <td>8-Speed Automatic</td>\n",
       "      <td>Moonlight Cloud</td>\n",
       "      <td>Gray</td>\n",
       "      <td>At least 1 accident or damage reported</td>\n",
       "      <td>Yes</td>\n",
       "      <td>$38,005</td>\n",
       "    </tr>\n",
       "    <tr>\n",
       "      <th>2</th>\n",
       "      <td>Lexus</td>\n",
       "      <td>RX 350 RX 350</td>\n",
       "      <td>2022</td>\n",
       "      <td>22,372 mi.</td>\n",
       "      <td>Gasoline</td>\n",
       "      <td>3.5 Liter DOHC</td>\n",
       "      <td>Automatic</td>\n",
       "      <td>Blue</td>\n",
       "      <td>Black</td>\n",
       "      <td>None reported</td>\n",
       "      <td>NaN</td>\n",
       "      <td>$54,598</td>\n",
       "    </tr>\n",
       "    <tr>\n",
       "      <th>3</th>\n",
       "      <td>INFINITI</td>\n",
       "      <td>Q50 Hybrid Sport</td>\n",
       "      <td>2015</td>\n",
       "      <td>88,900 mi.</td>\n",
       "      <td>Hybrid</td>\n",
       "      <td>354.0HP 3.5L V6 Cylinder Engine Gas/Electric H...</td>\n",
       "      <td>7-Speed A/T</td>\n",
       "      <td>Black</td>\n",
       "      <td>Black</td>\n",
       "      <td>None reported</td>\n",
       "      <td>Yes</td>\n",
       "      <td>$15,500</td>\n",
       "    </tr>\n",
       "    <tr>\n",
       "      <th>4</th>\n",
       "      <td>Audi</td>\n",
       "      <td>Q3 45 S line Premium Plus</td>\n",
       "      <td>2021</td>\n",
       "      <td>9,835 mi.</td>\n",
       "      <td>Gasoline</td>\n",
       "      <td>2.0L I4 16V GDI DOHC Turbo</td>\n",
       "      <td>8-Speed Automatic</td>\n",
       "      <td>Glacier White Metallic</td>\n",
       "      <td>Black</td>\n",
       "      <td>None reported</td>\n",
       "      <td>NaN</td>\n",
       "      <td>$34,999</td>\n",
       "    </tr>\n",
       "  </tbody>\n",
       "</table>\n",
       "</div>"
      ]
     },
     "execution_count": 183,
     "metadata": {},
     "output_type": "execute_result"
    }
   ],
   "execution_count": 183
  },
  {
   "metadata": {
    "ExecuteTime": {
     "end_time": "2025-02-08T20:19:17.571609Z",
     "start_time": "2025-02-08T20:19:17.551617Z"
    }
   },
   "cell_type": "code",
   "source": "print(f\"Le dataset contient {df.shape[0]} lignes et {df.shape[1]} colonnes.\")",
   "id": "2594470666a00ab6",
   "outputs": [
    {
     "name": "stdout",
     "output_type": "stream",
     "text": [
      "Le dataset contient 4009 lignes et 12 colonnes.\n"
     ]
    }
   ],
   "execution_count": 184
  },
  {
   "metadata": {},
   "cell_type": "markdown",
   "source": "## Nettoyage des données",
   "id": "33e06cacf9268468"
  },
  {
   "metadata": {
    "ExecuteTime": {
     "end_time": "2025-02-08T20:19:17.744469Z",
     "start_time": "2025-02-08T20:19:17.707060Z"
    }
   },
   "cell_type": "code",
   "source": [
    "# Suppression des espaces inutiles dans les noms de colonnes\n",
    "df.columns = df.columns.str.strip()\n",
    "\n",
    "# Conversion de la colonne 'price' en numérique\n",
    "df['price'] = df['price'].replace('[$,]', '', regex=True).astype(float)\n",
    "\n",
    "# Vérification des valeurs manquantes\n",
    "missing_values = df.isnull().sum()\n",
    "\n",
    "missing_values"
   ],
   "id": "355831a46124650a",
   "outputs": [
    {
     "data": {
      "text/plain": [
       "brand             0\n",
       "model             0\n",
       "model_year        0\n",
       "milage            0\n",
       "fuel_type       170\n",
       "engine            0\n",
       "transmission      0\n",
       "ext_col           0\n",
       "int_col           0\n",
       "accident        113\n",
       "clean_title     596\n",
       "price             0\n",
       "dtype: int64"
      ]
     },
     "execution_count": 185,
     "metadata": {},
     "output_type": "execute_result"
    }
   ],
   "execution_count": 185
  },
  {
   "metadata": {
    "ExecuteTime": {
     "end_time": "2025-02-08T20:19:18.036397Z",
     "start_time": "2025-02-08T20:19:18.023697Z"
    }
   },
   "cell_type": "code",
   "source": [
    "# Suppression des valeurs manquantes\n",
    "df = df.dropna()"
   ],
   "id": "6af37e84ace4fad7",
   "outputs": [],
   "execution_count": 186
  },
  {
   "metadata": {},
   "cell_type": "markdown",
   "source": "## Analyse exploratoire",
   "id": "497269c07eb9fb7d"
  },
  {
   "metadata": {
    "ExecuteTime": {
     "end_time": "2025-02-08T20:19:18.287640Z",
     "start_time": "2025-02-08T20:19:18.258808Z"
    }
   },
   "cell_type": "code",
   "source": [
    "# Description statistique des variables numériques\n",
    "df.describe()"
   ],
   "id": "fdce25955cd5f932",
   "outputs": [
    {
     "data": {
      "text/plain": [
       "        model_year         price\n",
       "count  3269.000000  3.269000e+03\n",
       "mean   2014.601407  4.124113e+04\n",
       "std       6.152181  8.304604e+04\n",
       "min    1974.000000  2.000000e+03\n",
       "25%    2011.000000  1.550000e+04\n",
       "50%    2016.000000  2.800000e+04\n",
       "75%    2019.000000  4.650000e+04\n",
       "max    2024.000000  2.954083e+06"
      ],
      "text/html": [
       "<div>\n",
       "<style scoped>\n",
       "    .dataframe tbody tr th:only-of-type {\n",
       "        vertical-align: middle;\n",
       "    }\n",
       "\n",
       "    .dataframe tbody tr th {\n",
       "        vertical-align: top;\n",
       "    }\n",
       "\n",
       "    .dataframe thead th {\n",
       "        text-align: right;\n",
       "    }\n",
       "</style>\n",
       "<table border=\"1\" class=\"dataframe\">\n",
       "  <thead>\n",
       "    <tr style=\"text-align: right;\">\n",
       "      <th></th>\n",
       "      <th>model_year</th>\n",
       "      <th>price</th>\n",
       "    </tr>\n",
       "  </thead>\n",
       "  <tbody>\n",
       "    <tr>\n",
       "      <th>count</th>\n",
       "      <td>3269.000000</td>\n",
       "      <td>3.269000e+03</td>\n",
       "    </tr>\n",
       "    <tr>\n",
       "      <th>mean</th>\n",
       "      <td>2014.601407</td>\n",
       "      <td>4.124113e+04</td>\n",
       "    </tr>\n",
       "    <tr>\n",
       "      <th>std</th>\n",
       "      <td>6.152181</td>\n",
       "      <td>8.304604e+04</td>\n",
       "    </tr>\n",
       "    <tr>\n",
       "      <th>min</th>\n",
       "      <td>1974.000000</td>\n",
       "      <td>2.000000e+03</td>\n",
       "    </tr>\n",
       "    <tr>\n",
       "      <th>25%</th>\n",
       "      <td>2011.000000</td>\n",
       "      <td>1.550000e+04</td>\n",
       "    </tr>\n",
       "    <tr>\n",
       "      <th>50%</th>\n",
       "      <td>2016.000000</td>\n",
       "      <td>2.800000e+04</td>\n",
       "    </tr>\n",
       "    <tr>\n",
       "      <th>75%</th>\n",
       "      <td>2019.000000</td>\n",
       "      <td>4.650000e+04</td>\n",
       "    </tr>\n",
       "    <tr>\n",
       "      <th>max</th>\n",
       "      <td>2024.000000</td>\n",
       "      <td>2.954083e+06</td>\n",
       "    </tr>\n",
       "  </tbody>\n",
       "</table>\n",
       "</div>"
      ]
     },
     "execution_count": 187,
     "metadata": {},
     "output_type": "execute_result"
    }
   ],
   "execution_count": 187
  },
  {
   "metadata": {},
   "cell_type": "markdown",
   "source": "",
   "id": "c0f5bef05fff792e"
  },
  {
   "metadata": {
    "ExecuteTime": {
     "end_time": "2025-02-08T20:19:18.631025Z",
     "start_time": "2025-02-08T20:19:18.576599Z"
    }
   },
   "cell_type": "code",
   "source": [
    "# Description des variables catégorielles\n",
    "df.describe(include=['object'])"
   ],
   "id": "fd074f9f1c9653d4",
   "outputs": [
    {
     "data": {
      "text/plain": [
       "       brand    model       milage fuel_type  \\\n",
       "count   3269     3269         3269      3269   \n",
       "unique    52     1614         2194         7   \n",
       "top     Ford  M3 Base  110,000 mi.  Gasoline   \n",
       "freq     341       29           16      2815   \n",
       "\n",
       "                                              engine transmission ext_col  \\\n",
       "count                                           3269         3269    3269   \n",
       "unique                                           963           32     120   \n",
       "top     355.0HP 5.3L 8 Cylinder Engine Gasoline Fuel          A/T   Black   \n",
       "freq                                              48          939     802   \n",
       "\n",
       "       int_col       accident clean_title  \n",
       "count     3269           3269        3269  \n",
       "unique      74              2           1  \n",
       "top      Black  None reported         Yes  \n",
       "freq      1680           2332        3269  "
      ],
      "text/html": [
       "<div>\n",
       "<style scoped>\n",
       "    .dataframe tbody tr th:only-of-type {\n",
       "        vertical-align: middle;\n",
       "    }\n",
       "\n",
       "    .dataframe tbody tr th {\n",
       "        vertical-align: top;\n",
       "    }\n",
       "\n",
       "    .dataframe thead th {\n",
       "        text-align: right;\n",
       "    }\n",
       "</style>\n",
       "<table border=\"1\" class=\"dataframe\">\n",
       "  <thead>\n",
       "    <tr style=\"text-align: right;\">\n",
       "      <th></th>\n",
       "      <th>brand</th>\n",
       "      <th>model</th>\n",
       "      <th>milage</th>\n",
       "      <th>fuel_type</th>\n",
       "      <th>engine</th>\n",
       "      <th>transmission</th>\n",
       "      <th>ext_col</th>\n",
       "      <th>int_col</th>\n",
       "      <th>accident</th>\n",
       "      <th>clean_title</th>\n",
       "    </tr>\n",
       "  </thead>\n",
       "  <tbody>\n",
       "    <tr>\n",
       "      <th>count</th>\n",
       "      <td>3269</td>\n",
       "      <td>3269</td>\n",
       "      <td>3269</td>\n",
       "      <td>3269</td>\n",
       "      <td>3269</td>\n",
       "      <td>3269</td>\n",
       "      <td>3269</td>\n",
       "      <td>3269</td>\n",
       "      <td>3269</td>\n",
       "      <td>3269</td>\n",
       "    </tr>\n",
       "    <tr>\n",
       "      <th>unique</th>\n",
       "      <td>52</td>\n",
       "      <td>1614</td>\n",
       "      <td>2194</td>\n",
       "      <td>7</td>\n",
       "      <td>963</td>\n",
       "      <td>32</td>\n",
       "      <td>120</td>\n",
       "      <td>74</td>\n",
       "      <td>2</td>\n",
       "      <td>1</td>\n",
       "    </tr>\n",
       "    <tr>\n",
       "      <th>top</th>\n",
       "      <td>Ford</td>\n",
       "      <td>M3 Base</td>\n",
       "      <td>110,000 mi.</td>\n",
       "      <td>Gasoline</td>\n",
       "      <td>355.0HP 5.3L 8 Cylinder Engine Gasoline Fuel</td>\n",
       "      <td>A/T</td>\n",
       "      <td>Black</td>\n",
       "      <td>Black</td>\n",
       "      <td>None reported</td>\n",
       "      <td>Yes</td>\n",
       "    </tr>\n",
       "    <tr>\n",
       "      <th>freq</th>\n",
       "      <td>341</td>\n",
       "      <td>29</td>\n",
       "      <td>16</td>\n",
       "      <td>2815</td>\n",
       "      <td>48</td>\n",
       "      <td>939</td>\n",
       "      <td>802</td>\n",
       "      <td>1680</td>\n",
       "      <td>2332</td>\n",
       "      <td>3269</td>\n",
       "    </tr>\n",
       "  </tbody>\n",
       "</table>\n",
       "</div>"
      ]
     },
     "execution_count": 188,
     "metadata": {},
     "output_type": "execute_result"
    }
   ],
   "execution_count": 188
  },
  {
   "metadata": {},
   "cell_type": "markdown",
   "source": "#### La marque la plus fréquente est Ford",
   "id": "42c860d4eab775c8"
  },
  {
   "metadata": {
    "ExecuteTime": {
     "end_time": "2025-02-08T20:19:18.853930Z",
     "start_time": "2025-02-08T20:19:18.841517Z"
    }
   },
   "cell_type": "code",
   "source": "df['brand'].value_counts()",
   "id": "6edab9d39064c3f7",
   "outputs": [
    {
     "data": {
      "text/plain": [
       "brand\n",
       "Ford             341\n",
       "BMW              316\n",
       "Mercedes-Benz    268\n",
       "Chevrolet        259\n",
       "Toyota           171\n",
       "Porsche          158\n",
       "Audi             153\n",
       "Lexus            136\n",
       "Jeep             114\n",
       "Land             100\n",
       "Nissan            95\n",
       "Cadillac          92\n",
       "Dodge             84\n",
       "GMC               84\n",
       "RAM               72\n",
       "Subaru            59\n",
       "Hyundai           57\n",
       "Mazda             57\n",
       "INFINITI          54\n",
       "Volkswagen        51\n",
       "Honda             49\n",
       "Kia               46\n",
       "Acura             45\n",
       "Lincoln           44\n",
       "Jaguar            39\n",
       "Volvo             33\n",
       "MINI              31\n",
       "Maserati          31\n",
       "Bentley           27\n",
       "Chrysler          25\n",
       "Buick             25\n",
       "Mitsubishi        20\n",
       "Genesis           16\n",
       "Hummer            16\n",
       "Pontiac           15\n",
       "Lamborghini       15\n",
       "Alfa              12\n",
       "Rolls-Royce       10\n",
       "Ferrari            9\n",
       "Aston              8\n",
       "Scion              6\n",
       "Saturn             5\n",
       "McLaren            4\n",
       "FIAT               4\n",
       "Lotus              3\n",
       "Mercury            3\n",
       "Saab               2\n",
       "Bugatti            1\n",
       "Plymouth           1\n",
       "smart              1\n",
       "Maybach            1\n",
       "Suzuki             1\n",
       "Name: count, dtype: int64"
      ]
     },
     "execution_count": 189,
     "metadata": {},
     "output_type": "execute_result"
    }
   ],
   "execution_count": 189
  },
  {
   "metadata": {},
   "cell_type": "markdown",
   "source": "#### Il y a 52 marques différentes dans le dataset.",
   "id": "a800350ef0d933c5"
  },
  {
   "metadata": {},
   "cell_type": "markdown",
   "source": "### Visualisation des données",
   "id": "2c951c766938cf92"
  },
  {
   "metadata": {
    "ExecuteTime": {
     "end_time": "2025-02-08T20:19:21.675050Z",
     "start_time": "2025-02-08T20:19:19.127410Z"
    }
   },
   "cell_type": "code",
   "source": [
    "plt.figure(figsize=(10, 6))\n",
    "sns.histplot(df['price'], kde=True)\n",
    "plt.title('Distribution des prix des voitures')\n",
    "plt.xlabel('Prix')\n",
    "plt.ylabel('Fréquence')\n",
    "plt.show()"
   ],
   "id": "e079a97881430f36",
   "outputs": [
    {
     "data": {
      "text/plain": [
       "<Figure size 1000x600 with 1 Axes>"
      ],
      "image/png": "[encoded data removed]"
     },
     "metadata": {},
     "output_type": "display_data"
    }
   ],
   "execution_count": 190
  },
  {
   "metadata": {},
   "cell_type": "markdown",
   "source": "#### La distribution des prix des voitures est asymétrique à droite. les voitures les moins chers sont les plus nombreuses",
   "id": "229d71626096ede0"
  },
  {
   "metadata": {},
   "cell_type": "markdown",
   "source": "### quelques stats interessantes\n",
   "id": "16c2135a823eb7ae"
  },
  {
   "metadata": {
    "ExecuteTime": {
     "end_time": "2025-02-08T20:19:21.787117Z",
     "start_time": "2025-02-08T20:19:21.774324Z"
    }
   },
   "cell_type": "code",
   "source": [
    "most_expensive_car = df.loc[df['price'].idxmax()]\n",
    "print(\"Voiture la plus chère :\")\n",
    "print(most_expensive_car[['brand', 'model', 'price']])"
   ],
   "id": "434f19995f4d08b9",
   "outputs": [
    {
     "name": "stdout",
     "output_type": "stream",
     "text": [
      "Voiture la plus chère :\n",
      "brand             Maserati\n",
      "model    Quattroporte Base\n",
      "price            2954083.0\n",
      "Name: 693, dtype: object\n"
     ]
    }
   ],
   "execution_count": 191
  },
  {
   "metadata": {
    "ExecuteTime": {
     "end_time": "2025-02-08T20:19:21.958954Z",
     "start_time": "2025-02-08T20:19:21.947435Z"
    }
   },
   "cell_type": "code",
   "source": [
    "# Voiture la moins chère\n",
    "cheapest_car = df.loc[df['price'].idxmin()]\n",
    "print(\"\\nVoiture la moins chère :\")\n",
    "print(cheapest_car[['brand', 'model', 'price']])"
   ],
   "id": "2fe83fc4798247df",
   "outputs": [
    {
     "name": "stdout",
     "output_type": "stream",
     "text": [
      "\n",
      "Voiture la moins chère :\n",
      "brand           Lincoln\n",
      "model    Aviator Luxury\n",
      "price            2000.0\n",
      "Name: 425, dtype: object\n"
     ]
    }
   ],
   "execution_count": 192
  },
  {
   "metadata": {
    "ExecuteTime": {
     "end_time": "2025-02-08T20:19:22.115414Z",
     "start_time": "2025-02-08T20:19:22.104853Z"
    }
   },
   "cell_type": "code",
   "source": [
    "brand_counts = df['brand'].value_counts()\n",
    "print(\"\\nNombre de voitures par marque :\")\n",
    "print(brand_counts)"
   ],
   "id": "21799ad499868aac",
   "outputs": [
    {
     "name": "stdout",
     "output_type": "stream",
     "text": [
      "\n",
      "Nombre de voitures par marque :\n",
      "brand\n",
      "Ford             341\n",
      "BMW              316\n",
      "Mercedes-Benz    268\n",
      "Chevrolet        259\n",
      "Toyota           171\n",
      "Porsche          158\n",
      "Audi             153\n",
      "Lexus            136\n",
      "Jeep             114\n",
      "Land             100\n",
      "Nissan            95\n",
      "Cadillac          92\n",
      "Dodge             84\n",
      "GMC               84\n",
      "RAM               72\n",
      "Subaru            59\n",
      "Hyundai           57\n",
      "Mazda             57\n",
      "INFINITI          54\n",
      "Volkswagen        51\n",
      "Honda             49\n",
      "Kia               46\n",
      "Acura             45\n",
      "Lincoln           44\n",
      "Jaguar            39\n",
      "Volvo             33\n",
      "MINI              31\n",
      "Maserati          31\n",
      "Bentley           27\n",
      "Chrysler          25\n",
      "Buick             25\n",
      "Mitsubishi        20\n",
      "Genesis           16\n",
      "Hummer            16\n",
      "Pontiac           15\n",
      "Lamborghini       15\n",
      "Alfa              12\n",
      "Rolls-Royce       10\n",
      "Ferrari            9\n",
      "Aston              8\n",
      "Scion              6\n",
      "Saturn             5\n",
      "McLaren            4\n",
      "FIAT               4\n",
      "Lotus              3\n",
      "Mercury            3\n",
      "Saab               2\n",
      "Bugatti            1\n",
      "Plymouth           1\n",
      "smart              1\n",
      "Maybach            1\n",
      "Suzuki             1\n",
      "Name: count, dtype: int64\n"
     ]
    }
   ],
   "execution_count": 193
  },
  {
   "metadata": {
    "ExecuteTime": {
     "end_time": "2025-02-08T20:19:22.226260Z",
     "start_time": "2025-02-08T20:19:22.214702Z"
    }
   },
   "cell_type": "code",
   "source": [
    "average_price_by_brand = df.groupby('brand')['price'].mean().sort_values(ascending=False)\n",
    "print(\"\\nPrix moyen par marque :\")\n",
    "print(average_price_by_brand)"
   ],
   "id": "deb3ded82d8cfa75",
   "outputs": [
    {
     "name": "stdout",
     "output_type": "stream",
     "text": [
      "\n",
      "Prix moyen par marque :\n",
      "brand\n",
      "Bugatti          1.950995e+06\n",
      "Rolls-Royce      3.863920e+05\n",
      "Lamborghini      2.859089e+05\n",
      "Ferrari          2.340876e+05\n",
      "McLaren          2.322362e+05\n",
      "Maserati         1.416163e+05\n",
      "Aston            1.254932e+05\n",
      "Bentley          1.228501e+05\n",
      "Porsche          8.590918e+04\n",
      "Maybach          6.425000e+04\n",
      "Lotus            5.841667e+04\n",
      "Mercedes-Benz    5.035782e+04\n",
      "Land             4.987347e+04\n",
      "RAM              4.157493e+04\n",
      "Genesis          4.134606e+04\n",
      "Cadillac         3.887376e+04\n",
      "BMW              3.787408e+04\n",
      "Chevrolet        3.627338e+04\n",
      "Alfa             3.535750e+04\n",
      "GMC              3.521315e+04\n",
      "Audi             3.411637e+04\n",
      "Ford             3.358521e+04\n",
      "Lexus            3.284590e+04\n",
      "Dodge            3.276021e+04\n",
      "Jeep             2.911087e+04\n",
      "Jaguar           2.894518e+04\n",
      "Plymouth         2.850000e+04\n",
      "Toyota           2.833211e+04\n",
      "Nissan           2.649803e+04\n",
      "Lincoln          2.592191e+04\n",
      "Volvo            2.496885e+04\n",
      "Kia              2.486587e+04\n",
      "Acura            2.217398e+04\n",
      "INFINITI         2.179615e+04\n",
      "Subaru           2.157519e+04\n",
      "Volkswagen       2.064522e+04\n",
      "Hummer           1.961806e+04\n",
      "Mazda            1.937935e+04\n",
      "Buick            1.890456e+04\n",
      "Honda            1.885224e+04\n",
      "Hyundai          1.763791e+04\n",
      "Mitsubishi       1.755065e+04\n",
      "FIAT             1.474975e+04\n",
      "Mercury          1.423333e+04\n",
      "MINI             1.358719e+04\n",
      "Pontiac          1.357293e+04\n",
      "Chrysler         1.242568e+04\n",
      "Saturn           1.237900e+04\n",
      "Saab             1.022500e+04\n",
      "Scion            8.832167e+03\n",
      "Suzuki           6.900000e+03\n",
      "smart            5.000000e+03\n",
      "Name: price, dtype: float64\n"
     ]
    }
   ],
   "execution_count": 194
  },
  {
   "metadata": {
    "ExecuteTime": {
     "end_time": "2025-02-08T20:19:22.335906Z",
     "start_time": "2025-02-08T20:19:22.327679Z"
    }
   },
   "cell_type": "code",
   "source": [
    "accident_counts = df['accident'].value_counts()\n",
    "print(\"\\nNombre de voitures accidentées vs non accidentées :\")\n",
    "print(accident_counts)"
   ],
   "id": "143062da5db9eef9",
   "outputs": [
    {
     "name": "stdout",
     "output_type": "stream",
     "text": [
      "\n",
      "Nombre de voitures accidentées vs non accidentées :\n",
      "accident\n",
      "None reported                             2332\n",
      "At least 1 accident or damage reported     937\n",
      "Name: count, dtype: int64\n"
     ]
    }
   ],
   "execution_count": 195
  },
  {
   "metadata": {
    "ExecuteTime": {
     "end_time": "2025-02-08T20:19:22.465449Z",
     "start_time": "2025-02-08T20:19:22.454084Z"
    }
   },
   "cell_type": "code",
   "source": [
    "average_price_by_accident = df.groupby('accident')['price'].mean()\n",
    "print(\"\\nPrix moyen des voitures accidentées vs non accidentées :\")\n",
    "print(average_price_by_accident)"
   ],
   "id": "6d705ff104d32bc9",
   "outputs": [
    {
     "name": "stdout",
     "output_type": "stream",
     "text": [
      "\n",
      "Prix moyen des voitures accidentées vs non accidentées :\n",
      "accident\n",
      "At least 1 accident or damage reported    28492.493063\n",
      "None reported                             46363.540309\n",
      "Name: price, dtype: float64\n"
     ]
    }
   ],
   "execution_count": 196
  },
  {
   "metadata": {},
   "cell_type": "markdown",
   "source": "",
   "id": "99159ba4e80dbffd"
  },
  {
   "metadata": {},
   "cell_type": "markdown",
   "source": "### Corrélation entre les variables numériques",
   "id": "87c383802e731bee"
  },
  {
   "metadata": {
    "ExecuteTime": {
     "end_time": "2025-02-08T20:19:22.863341Z",
     "start_time": "2025-02-08T20:19:22.551877Z"
    }
   },
   "cell_type": "code",
   "source": [
    "# Corrélation entre les variables numériques\n",
    "correlation_matrix = df[['price','model_year']].corr()\n",
    "sns.heatmap(correlation_matrix, annot=True, cmap='coolwarm')\n",
    "plt.title('Matrice de corrélation entre les variables numériques')\n",
    "plt.show()"
   ],
   "id": "23f5501b6b43a2aa",
   "outputs": [
    {
     "data": {
      "text/plain": [
       "<Figure size 640x480 with 2 Axes>"
      ],
      "image/png": "[encoded data removed]"
     },
     "metadata": {},
     "output_type": "display_data"
    }
   ],
   "execution_count": 197
  },
  {
   "metadata": {},
   "cell_type": "markdown",
   "source": "Il y a qu'une tres faible correlation positive entre le prix et l'année de fabrication de la voiture",
   "id": "1e8176180603d5b0"
  },
  {
   "metadata": {
    "ExecuteTime": {
     "end_time": "2025-02-08T20:19:22.947576Z",
     "start_time": "2025-02-08T20:19:22.930726Z"
    }
   },
   "cell_type": "code",
   "source": [
    "# Analyse des variables catégorielles\n",
    "categorical_columns = ['brand', 'model', 'fuel_type', 'transmission', 'ext_col', 'int_col', 'accident', 'clean_title']\n",
    "df=df[['brand', 'model', 'fuel_type', 'transmission', 'ext_col', 'int_col', 'accident', 'clean_title','price','model_year']]\n",
    "for col in categorical_columns:\n",
    "    print(f\"\\nValeurs uniques pour {col}: {df[col].unique()}\")"
   ],
   "id": "27da41622d4de099",
   "outputs": [
    {
     "name": "stdout",
     "output_type": "stream",
     "text": [
      "\n",
      "Valeurs uniques pour brand: ['Ford' 'Hyundai' 'INFINITI' 'Audi' 'BMW' 'Lexus' 'Aston' 'Toyota'\n",
      " 'Lincoln' 'Land' 'Mercedes-Benz' 'Dodge' 'Nissan' 'Jaguar' 'Chevrolet'\n",
      " 'Kia' 'Jeep' 'Bentley' 'MINI' 'Porsche' 'Hummer' 'Chrysler' 'Acura'\n",
      " 'Volvo' 'Cadillac' 'Maserati' 'Genesis' 'Volkswagen' 'GMC' 'RAM' 'Subaru'\n",
      " 'Alfa' 'Ferrari' 'Scion' 'Mitsubishi' 'Mazda' 'Saturn' 'Honda' 'Bugatti'\n",
      " 'Lamborghini' 'Rolls-Royce' 'McLaren' 'Buick' 'Lotus' 'Pontiac' 'FIAT'\n",
      " 'Saab' 'Mercury' 'Plymouth' 'smart' 'Maybach' 'Suzuki']\n",
      "\n",
      "Valeurs uniques pour model: ['Utility Police Interceptor Base' 'Palisade SEL' 'Q50 Hybrid Sport' ...\n",
      " 'CT 200h Base' 'Impala 2LZ' 'Continental GT Speed']\n",
      "\n",
      "Valeurs uniques pour fuel_type: ['E85 Flex Fuel' 'Gasoline' 'Hybrid' 'Diesel' 'Plug-In Hybrid' '–'\n",
      " 'not supported']\n",
      "\n",
      "Valeurs uniques pour transmission: ['6-Speed A/T' '8-Speed Automatic' '7-Speed A/T' 'A/T' '8-Speed A/T'\n",
      " 'Transmission w/Dual Shift Mode' '9-Speed Automatic' '6-Speed M/T'\n",
      " 'Automatic' '10-Speed A/T' '9-Speed A/T' '5-Speed A/T'\n",
      " '6-Speed Automatic with Auto-Shift' 'M/T' 'CVT Transmission'\n",
      " '4-Speed A/T' '6-Speed Automatic' '4-Speed Automatic' 'Automatic CVT'\n",
      " '8-Speed Automatic with Auto-Shift' '7-Speed Automatic with Auto-Shift'\n",
      " '5-Speed M/T' '7-Speed Manual' '10-Speed Automatic' '6-Speed Manual'\n",
      " 'Transmission Overdrive Switch' '7-Speed Automatic' '–'\n",
      " '5-Speed Automatic' '7-Speed' '7-Speed M/T' '7-Speed DCT Automatic']\n",
      "\n",
      "Valeurs uniques pour ext_col: ['Black' 'Moonlight Cloud' 'Blue' 'Green' 'Silver' 'Yellow' 'White' 'Gray'\n",
      " 'Purple' 'Iconic Silver Metallic' 'Mythos Black Metallic' 'Red' 'Gold'\n",
      " 'Horizon Blue' 'Orange' 'Beige' 'Summit White' 'Bright White Clearcoat'\n",
      " 'Crystal Black Silica' 'Ultra Black' 'Lunare White Metallic' 'Hyper Red'\n",
      " 'Vik Black' 'Sonic Silver Metallic' 'Patriot Blue Pearlcoat'\n",
      " 'Black Cherry' 'Blu' 'Beluga Black' 'Brown' 'Cobra Beige Metallic'\n",
      " 'Anodized Blue Metallic' 'Delmonico Red Pearlcoat' '–' 'Black Clearcoat'\n",
      " 'Machine Gray Metallic' 'Twilight Black' 'Diamond Black' 'Maroon'\n",
      " 'Firecracker Red Clearcoat' 'Onyx' 'Santorini Black'\n",
      " 'Mosaic Black Metallic' 'Deep Black Pearl Effect'\n",
      " 'Polymetal Gray Metallic' 'Jet Black Mica' 'Dark Gray Metallic'\n",
      " 'Isle of Man Green Metallic' 'Volcano Grey Metallic' 'Redline Red'\n",
      " 'Sandstone Metallic' 'Tan' 'Silver Zynith' 'Velvet Red Pearlcoat' 'Pink'\n",
      " 'Black Obsidian' 'Midnight Blue Metallic' 'Matte White'\n",
      " 'Iridium Metallic' 'Magnetic Black' 'Pacific Blue'\n",
      " 'White Diamond Tri-Coat' 'Dark Matter Metallic' 'Diamond White' 'Tempest'\n",
      " 'Tango Red Metallic' 'Majestic Plum Metallic' 'Dark Moon Blue Metallic'\n",
      " 'Manhattan Noir Metallic' 'Nebula Gray Pearl' 'Onyx Black' 'Frozen White'\n",
      " 'Shadow Black' 'Sting Gray Clearcoat' 'Maximum Steel Metallic'\n",
      " 'Carbonized Gray Metallic' 'Atomic Silver' 'Crimson Red Tintcoat'\n",
      " 'Billet Silver Metallic Clearcoat' 'Iridescent Pearl Tricoat'\n",
      " 'Nero Daytona' 'Rich Garnet Metallic' 'Nero Noctis'\n",
      " 'Ebony Twilight Metallic' 'Blue Reflex Mica' 'Eiger Grey'\n",
      " 'Granite Crystal Clearcoat Metallic' 'Dark Slate Metallic'\n",
      " 'Agate Black Metallic' 'Stone Gray Metallic' 'Bayside Blue'\n",
      " 'Silver Ice Metallic' 'Siren Red Tintcoat' 'Shadow Gray Metallic'\n",
      " 'Satin Steel Metallic' 'Red Quartz Tintcoat' 'Carrara White Metallic'\n",
      " 'Soul Red Crystal Metallic' 'DB Black Clearcoat'\n",
      " 'Iridium Silver Metallic' 'White Frost Tri-Coat' 'Glacial White Pearl'\n",
      " 'Cajun Red Tintcoat' 'Alpine White' 'Ember Pearlcoat'\n",
      " 'Twilight Blue Metallic' 'Burnished Bronze Metallic'\n",
      " 'Ice Silver Metallic' 'Hellayella Clearcoat' 'Snowflake White Pearl'\n",
      " 'China Blue' 'White Knuckle Clearcoat' 'Nautical Blue Pearl'\n",
      " 'Tungsten Metallic' 'Magnetic Metallic' 'Kinetic Blue'\n",
      " 'Black Sapphire Metallic' 'Brilliant Silver Metallic'\n",
      " 'Glacier Silver Metallic' 'Nightfall Gray Metallic' 'C / C']\n",
      "\n",
      "Valeurs uniques pour int_col: ['Black' 'Gray' 'Green' 'Brown' 'White' '–' 'Beige' 'Jet Black' 'Red'\n",
      " 'Blue' 'Charcoal' 'Medium Pewter' 'Ice' 'Obsidian Black' 'Orange' 'Nero'\n",
      " 'Sahara Tan' 'Ebony' 'Hotspur' 'Nougat Brown' 'Navy Pier' 'Grace White'\n",
      " 'Mesa' 'Medium Dark Slate' 'Gold' 'Charles Blue' 'Portland'\n",
      " 'Medium Light Camel' 'Black / Saddle' 'Ebony / Pimento'\n",
      " 'Mistral Gray / Raven' 'Silver' 'Medium Stone' 'Kyalami Orange' 'Boulder'\n",
      " 'Charcoal Black' 'Dark Auburn' 'Diesel Gray / Black' 'Global Black'\n",
      " 'Black / Brown' 'Black / Stone Grey' 'Graphite' 'Nero Ade' 'Tan'\n",
      " 'Saddle Brown' 'Light Titanium' 'Dark Gray' 'Platinum' 'Shale'\n",
      " 'Black Onyx' 'Sandstone' 'Cobalt Blue' 'Deep Cypress' 'Ceramic'\n",
      " 'Light Platinum / Jet Black' 'Dark Galvanized' 'Shara Beige' 'Rioja Red'\n",
      " 'Yellow' 'Light Slate' 'Brandy' 'Titan Black / Quarzit' 'Chestnut'\n",
      " 'Medium Earth Gray' 'Red / Black' 'Ebony Black' 'Deep Garnet'\n",
      " 'Ebony / Ebony Accents' 'Sport' 'Medium Ash Gray' 'White / Brown'\n",
      " 'Hotspur Hide' 'Canberra Beige' 'Deep Chestnut']\n",
      "\n",
      "Valeurs uniques pour accident: ['At least 1 accident or damage reported' 'None reported']\n",
      "\n",
      "Valeurs uniques pour clean_title: ['Yes']\n"
     ]
    }
   ],
   "execution_count": 198
  },
  {
   "metadata": {},
   "cell_type": "markdown",
   "source": "## CLUSTURING",
   "id": "6ee5ccf3583e72ce"
  },
  {
   "metadata": {
    "ExecuteTime": {
     "end_time": "2025-02-08T20:19:26.705157Z",
     "start_time": "2025-02-08T20:19:23.024331Z"
    }
   },
   "cell_type": "code",
   "source": [
    "from sklearn.cluster import KMeans\n",
    "from sklearn.preprocessing import StandardScaler\n",
    "import matplotlib.pyplot as plt\n",
    "import seaborn as sns\n",
    "import pandas as pd\n",
    "\n",
    "# Encodage des variables catégorielles avec get_dummies\n",
    "df_encoded = pd.get_dummies(df, columns=['brand', 'accident'], drop_first=True)\n",
    "\n",
    "# Sélection des caractéristiques pour le clustering\n",
    "X_cluster = df_encoded[['price'] + list(df_encoded.filter(like='brand_')) + list(df_encoded.filter(like='model_'))]\n",
    "\n",
    "# Standardisation des données\n",
    "scaler = StandardScaler()\n",
    "X_cluster_scaled = scaler.fit_transform(X_cluster)\n",
    "\n",
    "# Méthode du coude pour déterminer le nombre optimal de clusters\n",
    "inertia = []\n",
    "for k in range(1, 11):  # Test de 1 à 10 clusters\n",
    "    kmeans = KMeans(n_clusters=k, random_state=42)\n",
    "    kmeans.fit(X_cluster_scaled)\n",
    "    inertia.append(kmeans.inertia_)  # Inertie pour chaque nombre de clusters\n",
    "\n",
    "# Visualisation de la méthode du coude\n",
    "plt.figure(figsize=(10, 6))\n",
    "plt.plot(range(1, 11), inertia, marker='o', linestyle='--')\n",
    "plt.title('Méthode du coude pour déterminer le nombre optimal de clusters')\n",
    "plt.xlabel('Nombre de clusters')\n",
    "plt.ylabel('Inertie')\n",
    "plt.xticks(range(1, 11))\n",
    "plt.grid(True)\n",
    "plt.show()\n",
    "\n",
    "optimal_k = 8  \n",
    "\n",
    "kmeans = KMeans(n_clusters=optimal_k, random_state=42)\n",
    "df['cluster'] = kmeans.fit_predict(X_cluster_scaled)\n",
    "\n",
    "# Visualisation des clusters\n",
    "plt.figure(figsize=(10, 6))\n",
    "sns.scatterplot(x='price', y='brand', hue='cluster', data=df, palette='viridis')\n",
    "plt.title('Clustering des voitures')\n",
    "plt.xlabel('Prix')\n",
    "plt.ylabel('Marque')\n",
    "plt.show()"
   ],
   "id": "2f371d66f822c118",
   "outputs": [
    {
     "data": {
      "text/plain": [
       "<Figure size 1000x600 with 1 Axes>"
      ],
      "image/png": "[encoded data removed]"
     },
     "metadata": {},
     "output_type": "display_data"
    },
    {
     "data": {
      "text/plain": [
       "<Figure size 1000x600 with 1 Axes>"
      ],
      "image/png": "[encoded data removed]"
     },
     "metadata": {},
     "output_type": "display_data"
    }
   ],
   "execution_count": 199
  },
  {
   "metadata": {},
   "cell_type": "markdown",
   "source": "## PRETRAITEMENT DES DONNEES ",
   "id": "9215944d52f2892c"
  },
  {
   "metadata": {
    "ExecuteTime": {
     "end_time": "2025-02-08T20:19:26.883374Z",
     "start_time": "2025-02-08T20:19:26.794323Z"
    }
   },
   "cell_type": "code",
   "source": [
    "# Encodage des variables catégorielles avec get_dummies\n",
    "df = pd.get_dummies(df, columns=categorical_columns, drop_first=True)\n",
    "\n",
    "# Conversion des booléens (True/False) en entiers (1/0)\n",
    "df = df.astype(int)\n",
    "\n",
    "df.head()"
   ],
   "id": "4d032ef95ce3d4aa",
   "outputs": [
    {
     "data": {
      "text/plain": [
       "   price  model_year  cluster  brand_Alfa  brand_Aston  brand_Audi  brand_BMW  \\\n",
       "0  10300        2013        1           0            0           0          0   \n",
       "1  38005        2021        6           0            0           0          0   \n",
       "3  15500        2015        1           0            0           0          0   \n",
       "6  31000        2017        1           0            0           1          0   \n",
       "7   7300        2001        1           0            0           0          1   \n",
       "\n",
       "   brand_Bentley  brand_Bugatti  brand_Buick  ...  int_col_Shara Beige  \\\n",
       "0              0              0            0  ...                    0   \n",
       "1              0              0            0  ...                    0   \n",
       "3              0              0            0  ...                    0   \n",
       "6              0              0            0  ...                    0   \n",
       "7              0              0            0  ...                    0   \n",
       "\n",
       "   int_col_Silver  int_col_Sport  int_col_Tan  int_col_Titan Black / Quarzit  \\\n",
       "0               0              0            0                              0   \n",
       "1               0              0            0                              0   \n",
       "3               0              0            0                              0   \n",
       "6               0              0            0                              0   \n",
       "7               0              0            0                              0   \n",
       "\n",
       "   int_col_White  int_col_White / Brown  int_col_Yellow  int_col_–  \\\n",
       "0              0                      0               0          0   \n",
       "1              0                      0               0          0   \n",
       "3              0                      0               0          0   \n",
       "6              0                      0               0          0   \n",
       "7              0                      0               0          0   \n",
       "\n",
       "   accident_None reported  \n",
       "0                       0  \n",
       "1                       0  \n",
       "3                       1  \n",
       "6                       1  \n",
       "7                       1  \n",
       "\n",
       "[5 rows x 1897 columns]"
      ],
      "text/html": [
       "<div>\n",
       "<style scoped>\n",
       "    .dataframe tbody tr th:only-of-type {\n",
       "        vertical-align: middle;\n",
       "    }\n",
       "\n",
       "    .dataframe tbody tr th {\n",
       "        vertical-align: top;\n",
       "    }\n",
       "\n",
       "    .dataframe thead th {\n",
       "        text-align: right;\n",
       "    }\n",
       "</style>\n",
       "<table border=\"1\" class=\"dataframe\">\n",
       "  <thead>\n",
       "    <tr style=\"text-align: right;\">\n",
       "      <th></th>\n",
       "      <th>price</th>\n",
       "      <th>model_year</th>\n",
       "      <th>cluster</th>\n",
       "      <th>brand_Alfa</th>\n",
       "      <th>brand_Aston</th>\n",
       "      <th>brand_Audi</th>\n",
       "      <th>brand_BMW</th>\n",
       "      <th>brand_Bentley</th>\n",
       "      <th>brand_Bugatti</th>\n",
       "      <th>brand_Buick</th>\n",
       "      <th>...</th>\n",
       "      <th>int_col_Shara Beige</th>\n",
       "      <th>int_col_Silver</th>\n",
       "      <th>int_col_Sport</th>\n",
       "      <th>int_col_Tan</th>\n",
       "      <th>int_col_Titan Black / Quarzit</th>\n",
       "      <th>int_col_White</th>\n",
       "      <th>int_col_White / Brown</th>\n",
       "      <th>int_col_Yellow</th>\n",
       "      <th>int_col_–</th>\n",
       "      <th>accident_None reported</th>\n",
       "    </tr>\n",
       "  </thead>\n",
       "  <tbody>\n",
       "    <tr>\n",
       "      <th>0</th>\n",
       "      <td>10300</td>\n",
       "      <td>2013</td>\n",
       "      <td>1</td>\n",
       "      <td>0</td>\n",
       "      <td>0</td>\n",
       "      <td>0</td>\n",
       "      <td>0</td>\n",
       "      <td>0</td>\n",
       "      <td>0</td>\n",
       "      <td>0</td>\n",
       "      <td>...</td>\n",
       "      <td>0</td>\n",
       "      <td>0</td>\n",
       "      <td>0</td>\n",
       "      <td>0</td>\n",
       "      <td>0</td>\n",
       "      <td>0</td>\n",
       "      <td>0</td>\n",
       "      <td>0</td>\n",
       "      <td>0</td>\n",
       "      <td>0</td>\n",
       "    </tr>\n",
       "    <tr>\n",
       "      <th>1</th>\n",
       "      <td>38005</td>\n",
       "      <td>2021</td>\n",
       "      <td>6</td>\n",
       "      <td>0</td>\n",
       "      <td>0</td>\n",
       "      <td>0</td>\n",
       "      <td>0</td>\n",
       "      <td>0</td>\n",
       "      <td>0</td>\n",
       "      <td>0</td>\n",
       "      <td>...</td>\n",
       "      <td>0</td>\n",
       "      <td>0</td>\n",
       "      <td>0</td>\n",
       "      <td>0</td>\n",
       "      <td>0</td>\n",
       "      <td>0</td>\n",
       "      <td>0</td>\n",
       "      <td>0</td>\n",
       "      <td>0</td>\n",
       "      <td>0</td>\n",
       "    </tr>\n",
       "    <tr>\n",
       "      <th>3</th>\n",
       "      <td>15500</td>\n",
       "      <td>2015</td>\n",
       "      <td>1</td>\n",
       "      <td>0</td>\n",
       "      <td>0</td>\n",
       "      <td>0</td>\n",
       "      <td>0</td>\n",
       "      <td>0</td>\n",
       "      <td>0</td>\n",
       "      <td>0</td>\n",
       "      <td>...</td>\n",
       "      <td>0</td>\n",
       "      <td>0</td>\n",
       "      <td>0</td>\n",
       "      <td>0</td>\n",
       "      <td>0</td>\n",
       "      <td>0</td>\n",
       "      <td>0</td>\n",
       "      <td>0</td>\n",
       "      <td>0</td>\n",
       "      <td>1</td>\n",
       "    </tr>\n",
       "    <tr>\n",
       "      <th>6</th>\n",
       "      <td>31000</td>\n",
       "      <td>2017</td>\n",
       "      <td>1</td>\n",
       "      <td>0</td>\n",
       "      <td>0</td>\n",
       "      <td>1</td>\n",
       "      <td>0</td>\n",
       "      <td>0</td>\n",
       "      <td>0</td>\n",
       "      <td>0</td>\n",
       "      <td>...</td>\n",
       "      <td>0</td>\n",
       "      <td>0</td>\n",
       "      <td>0</td>\n",
       "      <td>0</td>\n",
       "      <td>0</td>\n",
       "      <td>0</td>\n",
       "      <td>0</td>\n",
       "      <td>0</td>\n",
       "      <td>0</td>\n",
       "      <td>1</td>\n",
       "    </tr>\n",
       "    <tr>\n",
       "      <th>7</th>\n",
       "      <td>7300</td>\n",
       "      <td>2001</td>\n",
       "      <td>1</td>\n",
       "      <td>0</td>\n",
       "      <td>0</td>\n",
       "      <td>0</td>\n",
       "      <td>1</td>\n",
       "      <td>0</td>\n",
       "      <td>0</td>\n",
       "      <td>0</td>\n",
       "      <td>...</td>\n",
       "      <td>0</td>\n",
       "      <td>0</td>\n",
       "      <td>0</td>\n",
       "      <td>0</td>\n",
       "      <td>0</td>\n",
       "      <td>0</td>\n",
       "      <td>0</td>\n",
       "      <td>0</td>\n",
       "      <td>0</td>\n",
       "      <td>1</td>\n",
       "    </tr>\n",
       "  </tbody>\n",
       "</table>\n",
       "<p>5 rows × 1897 columns</p>\n",
       "</div>"
      ]
     },
     "execution_count": 200,
     "metadata": {},
     "output_type": "execute_result"
    }
   ],
   "execution_count": 200
  },
  {
   "metadata": {},
   "cell_type": "markdown",
   "source": "## REGRESSION LINEAIRE",
   "id": "1d586b9e617fd9da"
  },
  {
   "metadata": {
    "ExecuteTime": {
     "end_time": "2025-02-08T20:19:35.439090Z",
     "start_time": "2025-02-08T20:19:27.557556Z"
    }
   },
   "cell_type": "code",
   "source": [
    "from sklearn.model_selection import train_test_split\n",
    "from sklearn.linear_model import LinearRegression\n",
    "from sklearn.metrics import mean_squared_error, r2_score\n",
    "from sklearn.preprocessing import StandardScaler\n",
    "\n",
    "# Sélection des caractéristiques et de la cible\n",
    "X = df.drop('price', axis=1)\n",
    "y = df['price']\n",
    "\n",
    "# Standardisation des caractéristiques\n",
    "scaler = StandardScaler()\n",
    "X_scaled = scaler.fit_transform(X)\n",
    "\n",
    "# Division en ensembles d'entraînement et de test\n",
    "X_train, X_test, y_train, y_test = train_test_split(X_scaled, y, test_size=0.2, random_state=42)\n",
    "\n",
    "# Création et entraînement du modèle\n",
    "model = LinearRegression()\n",
    "model.fit(X_train, y_train)\n",
    "\n",
    "# Prédiction sur l'ensemble de test\n",
    "y_pred = model.predict(X_test)\n",
    "\n",
    "# Évaluation du modèle\n",
    "mse = mean_squared_error(y_test, y_pred)\n",
    "r2 = r2_score(y_test, y_pred)\n",
    "\n",
    "# Calcul de l'erreur en pourcentage (MAPE - Mean Absolute Percentage Error)\n",
    "def mean_absolute_percentage_error(y_true, y_pred):\n",
    "    return np.mean(np.abs((y_true - y_pred) / y_true)) * 100\n",
    "\n",
    "mape = mean_absolute_percentage_error(y_test, y_pred)\n",
    "\n",
    "# Affichage des résultats\n",
    "print(f'MSE: {mse:.2f}')\n",
    "print(f'R2: {r2:.2f}')\n",
    "print(f'MAPE: {mape:.2f}%')"
   ],
   "id": "ae19c40dd0ace36",
   "outputs": [
    {
     "name": "stdout",
     "output_type": "stream",
     "text": [
      "MSE: 91375408111999405773542129715002736640.00\n",
      "R2: -6239874089636566354316230656.00\n",
      "MAPE: 28781226957210692.00%\n"
     ]
    }
   ],
   "execution_count": 201
  },
  {
   "metadata": {},
   "cell_type": "markdown",
   "source": "### La regression linaire semble ne pas etre une bonne methode de prediction du prix pour ce dataset",
   "id": "48cce63df0ef490e"
  },
  {
   "metadata": {},
   "cell_type": "code",
   "outputs": [],
   "execution_count": null,
   "source": "",
   "id": "ba5307a83757d471"
  }
 ],
 "metadata": {
  "kernelspec": {
   "display_name": "Python 3",
   "language": "python",
   "name": "python3"
  },
  "language_info": {
   "codemirror_mode": {
    "name": "ipython",
    "version": 2
   },
   "file_extension": ".py",
   "mimetype": "text/x-python",
   "name": "python",
   "nbconvert_exporter": "python",
   "pygments_lexer": "ipython2",
   "version": "2.7.6"
  }
 },
 "nbformat": 4,
 "nbformat_minor": 5
}
